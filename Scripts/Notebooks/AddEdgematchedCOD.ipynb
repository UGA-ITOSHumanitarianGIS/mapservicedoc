{
 "cells": [
  {
   "cell_type": "code",
   "execution_count": 1,
   "metadata": {},
   "outputs": [],
   "source": [
    "import json\n",
    "import requests\n",
    "import re\n",
    "#now query the edgematch endpoint to get the list of service\n",
    "url = 'https://gistmaps.itos.uga.edu/arcgis/rest/services/COD_External_Edgematch?f=json'\n",
    "ret = requests.get(url)\n",
    "      \n",
    "if ret.status_code > 206:\n",
    "    raise Exception(' application did not handle import success message properly.')\n",
    "obj = json.loads(json.dumps(ret.json()))\n",
    "svcLUs = []\n",
    "aprx = arcpy.mp.ArcGISProject(\"current\")\n",
    "map = aprx.listMaps()[0]\n",
    "layers = map.listLayers()\n",
    "for i in obj[\"services\"]:\n",
    "    if i['type'] == 'MapServer':\n",
    "        if not re.search('pcode', i['name']):\n",
    "            url2 = 'https://gistmaps.itos.uga.edu/arcgis/rest/services/' + i[\"name\"] +'/MapServer/0'\n",
    "            #print(url2)\n",
    "            map.addDataFromPath(url2)\n",
    "#All the names will be admin 0 in the table of contents lets make those more informative of the location\n",
    "for l in map.listLayers():\n",
    "    w = l.dataSource\n",
    "    p = w[74:-12]\n",
    "    if re.search('Edgematch', w):\n",
    "        l.name = p\n",
    "        sym = l.symbology\n",
    "        sym.renderer.symbol.applySymbolFromGallery(\"Extent Transparent Wide Gray\")\n",
    "        sym.renderer.symbol.color = {'RGB': [255, 0, 0, 60]}\n",
    "        sym.renderer.symbol.outlineColor = {'CMYK' : [25, 50, 75, 25, 100]}\n",
    "        sym.renderer.symbol.size = 2\n",
    "\n",
    "        l.symbology = sym\n",
    "    \n",
    "    \n"
   ]
  },
  {
   "cell_type": "code",
   "execution_count": null,
   "metadata": {},
   "outputs": [],
   "source": []
  },
  {
   "cell_type": "code",
   "execution_count": null,
   "metadata": {},
   "outputs": [],
   "source": []
  }
 ],
 "metadata": {
  "kernelspec": {
   "display_name": "ArcGISPro",
   "language": "Python",
   "name": "python3"
  },
  "language_info": {
   "file_extension": ".py",
   "name": "python",
   "version": "3"
  }
 },
 "nbformat": 4,
 "nbformat_minor": 2
}
