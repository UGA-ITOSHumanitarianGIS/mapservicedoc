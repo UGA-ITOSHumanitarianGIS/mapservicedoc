{
 "cells": [
  {
   "cell_type": "code",
   "execution_count": 1,
   "metadata": {},
   "outputs": [
    {
     "name": "stdout",
     "output_type": "stream",
     "text": [
      "https://gistmaps.itos.uga.edu/arcgis/rest/services/COD_External_Edgematch/BEN_FR_Edgematch/MapServer/0\n",
      "https://gistmaps.itos.uga.edu/arcgis/rest/services/COD_External_Edgematch/BFA_FR_Edgematch/MapServer/0\n",
      "https://gistmaps.itos.uga.edu/arcgis/rest/services/COD_External_Edgematch/CAF_FR_Edgematch/MapServer/0\n",
      "https://gistmaps.itos.uga.edu/arcgis/rest/services/COD_External_Edgematch/CIV_FR_Edgematch/MapServer/0\n",
      "https://gistmaps.itos.uga.edu/arcgis/rest/services/COD_External_Edgematch/CMR_EN_Edgematch/MapServer/0\n",
      "https://gistmaps.itos.uga.edu/arcgis/rest/services/COD_External_Edgematch/CMR_FR_Edgematch/MapServer/0\n",
      "https://gistmaps.itos.uga.edu/arcgis/rest/services/COD_External_Edgematch/GHA_EN_Edgematch/MapServer/0\n",
      "https://gistmaps.itos.uga.edu/arcgis/rest/services/COD_External_Edgematch/GIN_FR_Edgematch/MapServer/0\n",
      "https://gistmaps.itos.uga.edu/arcgis/rest/services/COD_External_Edgematch/GNB_EN_Edgematch/MapServer/0\n",
      "https://gistmaps.itos.uga.edu/arcgis/rest/services/COD_External_Edgematch/KWT_AR_Edgematch/MapServer/0\n",
      "https://gistmaps.itos.uga.edu/arcgis/rest/services/COD_External_Edgematch/KWT_EN_Edgematch/MapServer/0\n",
      "https://gistmaps.itos.uga.edu/arcgis/rest/services/COD_External_Edgematch/LBR_EN_Edgematch/MapServer/0\n",
      "https://gistmaps.itos.uga.edu/arcgis/rest/services/COD_External_Edgematch/MDA_EN_Edgematch/MapServer/0\n",
      "https://gistmaps.itos.uga.edu/arcgis/rest/services/COD_External_Edgematch/MLI_FR_Edgematch/MapServer/0\n",
      "https://gistmaps.itos.uga.edu/arcgis/rest/services/COD_External_Edgematch/NER_FR_Edgematch/MapServer/0\n",
      "https://gistmaps.itos.uga.edu/arcgis/rest/services/COD_External_Edgematch/NGA_EN_Edgematch/MapServer/0\n",
      "https://gistmaps.itos.uga.edu/arcgis/rest/services/COD_External_Edgematch/POL_PL_Edgematch/MapServer/0\n",
      "https://gistmaps.itos.uga.edu/arcgis/rest/services/COD_External_Edgematch/ROU_RO_Edgematch/MapServer/0\n",
      "https://gistmaps.itos.uga.edu/arcgis/rest/services/COD_External_Edgematch/SLE_EN_Edgematch/MapServer/0\n",
      "https://gistmaps.itos.uga.edu/arcgis/rest/services/COD_External_Edgematch/TCD_FR_Edgematch/MapServer/0\n",
      "https://gistmaps.itos.uga.edu/arcgis/rest/services/COD_External_Edgematch/TGO_FR_edgematch/MapServer/0\n",
      "https://gistmaps.itos.uga.edu/arcgis/rest/services/COD_External_Edgematch/UKR_EN_Edgematch/MapServer/0\n",
      "https://gistmaps.itos.uga.edu/arcgis/rest/services/COD_External_Edgematch/UKR_RU_Edgematch/MapServer/0\n",
      "https://gistmaps.itos.uga.edu/arcgis/rest/services/COD_External_Edgematch/UKR_UA_Edgematch/MapServer/0\n"
     ]
    }
   ],
   "source": [
    "import json\n",
    "import requests\n",
    "import re\n",
    "#now query the edgematch endpoint to get the list of service\n",
    "url = 'https://gistmaps.itos.uga.edu/arcgis/rest/services/COD_External_Edgematch?f=json'\n",
    "ret = requests.get(url)\n",
    "      \n",
    "if ret.status_code > 206:\n",
    "    raise Exception(' application did not handle import success message properly.')\n",
    "obj = json.loads(json.dumps(ret.json()))\n",
    "svcLUs = []\n",
    "aprx = arcpy.mp.ArcGISProject(\"current\")\n",
    "map = aprx.listMaps()[0]\n",
    "layers = map.listLayers()\n",
    "for i in obj[\"services\"]:\n",
    "    if i['type'] == 'MapServer':\n",
    "        if not re.search('pcode', i['name']):\n",
    "            url2 = 'https://gistmaps.itos.uga.edu/arcgis/rest/services/' + i[\"name\"] +'/MapServer/0'\n",
    "            print(url2)\n",
    "            map.addDataFromPath(url2)\n"
   ]
  },
  {
   "cell_type": "code",
   "execution_count": null,
   "metadata": {},
   "outputs": [],
   "source": []
  }
 ],
 "metadata": {
  "kernelspec": {
   "display_name": "ArcGISPro",
   "language": "Python",
   "name": "python3"
  },
  "language_info": {
   "file_extension": ".py",
   "name": "python",
   "version": "3"
  }
 },
 "nbformat": 4,
 "nbformat_minor": 2
}
